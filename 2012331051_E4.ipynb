{
 "cells": [
  {
   "cell_type": "markdown",
   "metadata": {},
   "source": [
    "Task1"
   ]
  },
  {
   "cell_type": "code",
   "execution_count": 11,
   "metadata": {
    "collapsed": false
   },
   "outputs": [
    {
     "name": "stdout",
     "output_type": "stream",
     "text": [
      "[0, -1, -2, -2, -2, -2, -3, -2, -1, -1, 0, 1, 1, 1, 1, 1, 2, 1, 1, 1, 2, 2, 1, 0, -1, -1, 0, 0, 0, -1, 0, 0, 0, 0, -1, 0, -1, -2, -1, -2, -1, -1, -1, -2, -2, -2, -1, -1, -1, -2, -2, -3, -3, -4, -3, -2, -3, -3, -3, -2, -2, -2, -1, 0, -1, -1, -1, -1, -1, 0, 1, 1, 1, 1, 1, 1, 0, -1, 0, 1, 0, 1, 1, 0, -1, 0, 0, 0, 0, 0, -1, 0, 0, -1, -2, -2, -3, -4, -3, -3, -2]\n",
      "-4\n",
      "53\n",
      "97\n"
     ]
    }
   ],
   "source": [
    "def countNt(DNA):\n",
    "    mn = 10000\n",
    "    pos = [0]\n",
    "    gcnt = 0\n",
    "    ccnt = 0\n",
    "    for i in range (len(DNA)):\n",
    "        if DNA[i] == 'G':\n",
    "            gcnt = gcnt + 1\n",
    "        elif DNA[i] == 'C':\n",
    "            ccnt = ccnt + 1\n",
    "        pos.append(gcnt-ccnt)\n",
    "    print(pos)\n",
    "    print(min(pos))\n",
    "    gcnt = 0\n",
    "    ccnt = 0\n",
    "    for i in range (len(DNA)):\n",
    "        if DNA[i] == 'G':\n",
    "            gcnt = gcnt + 1\n",
    "        elif DNA[i] == 'C':\n",
    "            ccnt = ccnt + 1\n",
    "        if gcnt-ccnt == min(pos):\n",
    "            print(i+1)\n",
    "countNt('CCTATCGGTGGATTAGCATGTCCCTGTACGTTTCGCCGCGAACTAGTTCACACGGCTTGATGGCAAATGGTTTTTCCGGCGACCGTAATCGTCCACCGAG')"
   ]
  },
  {
   "cell_type": "markdown",
   "metadata": {},
   "source": [
    "Task2"
   ]
  },
  {
   "cell_type": "code",
   "execution_count": 22,
   "metadata": {
    "collapsed": false
   },
   "outputs": [
    {
     "data": {
      "image/png": "[encoded data removed]",
      "text/plain": [
       "<matplotlib.figure.Figure at 0x87f46a0>"
      ]
     },
     "metadata": {},
     "output_type": "display_data"
    }
   ],
   "source": [
    " %matplotlib inline\n",
    "import matplotlib.pyplot as plt\n",
    "def skewDiagram(DNA):\n",
    "    mn = 10000\n",
    "    pos = [0]\n",
    "    x = [0]\n",
    "    gcnt = 0\n",
    "    ccnt = 0\n",
    "    for i in range (len(DNA)):\n",
    "        if DNA[i] == 'G':\n",
    "            gcnt = gcnt + 1\n",
    "        elif DNA[i] == 'C':\n",
    "            ccnt = ccnt + 1\n",
    "        pos.append(gcnt-ccnt)\n",
    "        x.append(i)\n",
    "    plt.plot(x,pos)\n",
    "    plt.ylabel('#G - #C')\n",
    "    plt.xlabel('Position')\n",
    "    plt.show()\n",
    "with open(\"GCF_000005845.2_ASM584v2_genomic.fna\", 'r') as infile2:\n",
    "    count = 0\n",
    "    seq=\"\"\n",
    "    for line in infile2:\n",
    "        if count == 0:\n",
    "            count = 1\n",
    "        else:\n",
    "            seq+=line\n",
    "skewDiagram(seq)"
   ]
  },
  {
   "cell_type": "markdown",
   "metadata": {},
   "source": [
    "Task3"
   ]
  },
  {
   "cell_type": "code",
   "execution_count": 24,
   "metadata": {
    "collapsed": false
   },
   "outputs": [
    {
     "name": "stdout",
     "output_type": "stream",
     "text": [
      "3\n"
     ]
    }
   ],
   "source": [
    "def hammingDistance(DNA1,DNA2):\n",
    "    cnt = 0\n",
    "    for i in range (len(DNA1)):\n",
    "        if DNA1[i] != DNA2[i]:\n",
    "            cnt = cnt + 1\n",
    "    print(cnt)\n",
    "hammingDistance('GGGCCGTTGGT','GGACCGTTGAC')"
   ]
  },
  {
   "cell_type": "markdown",
   "metadata": {},
   "source": [
    "Task4"
   ]
  },
  {
   "cell_type": "code",
   "execution_count": 48,
   "metadata": {
    "collapsed": false
   },
   "outputs": [
    {
     "data": {
      "text/plain": [
       "('ATGT', 9)"
      ]
     },
     "execution_count": 48,
     "metadata": {},
     "output_type": "execute_result"
    }
   ],
   "source": [
    "def hammingDistance(DNA1,DNA2):\n",
    "    cnt = 0\n",
    "    for i in range (len(DNA1)):\n",
    "        if DNA1[i] != DNA2[i]:\n",
    "            cnt = cnt + 1\n",
    "    return cnt\n",
    "\n",
    "def PatternCount(Text, Pattern, d):\n",
    "    count = 0\n",
    "    length = len(Pattern)\n",
    "    for i in range (len(Text)-len(Pattern)+1):\n",
    "        str = Text[i:i+length]\n",
    "        hd = hammingDistance(str,Pattern)\n",
    "        if hd <=d:\n",
    "            count = count + 1\n",
    "    return count\n",
    "\n",
    "Text = \"ACGTTGCATGTCGCATGATGCATGAGAGCT\"\n",
    "k = 4\n",
    "d = 1\n",
    "hd = 0\n",
    "kmers = {}\n",
    "for i in range (len(Text)-4+1):\n",
    "    str = Text[i:i+4]\n",
    "    #strrev = str[::-1]\n",
    "    strrev = []\n",
    "    for j in range (len(str)):\n",
    "        if str[j] == 'A':\n",
    "            strrev.append('T')\n",
    "        elif str[j] == 'T':\n",
    "            strrev.append('A')\n",
    "        elif str[j] == 'G':\n",
    "            strrev.append('C')\n",
    "        elif str[j] == 'C':\n",
    "            strrev.append('G')\n",
    "    strrev = strrev[::-1]\n",
    "    hd = PatternCount(Text,str,d) + PatternCount(Text,strrev,d)\n",
    "    kmers[str] = hd\n",
    "max(kmers.items(), key=lambda x: x[1])\n",
    "dict.get(key, default=None)"
   ]
  },
  {
   "cell_type": "code",
   "execution_count": null,
   "metadata": {
    "collapsed": true
   },
   "outputs": [],
   "source": []
  },
  {
   "cell_type": "markdown",
   "metadata": {},
   "source": [
    "Task5"
   ]
  },
  {
   "cell_type": "code",
   "execution_count": 37,
   "metadata": {
    "collapsed": false
   },
   "outputs": [
    {
     "name": "stdout",
     "output_type": "stream",
     "text": [
      "AAG\n",
      "ACA\n",
      "ACC\n",
      "ACG\n",
      "ACT\n",
      "AGG\n",
      "ATG\n",
      "CCG\n",
      "GCG\n",
      "TCG\n"
     ]
    }
   ],
   "source": [
    "def hammingDistance(DNA1,DNA2):\n",
    "    cnt = 0\n",
    "    for i in range (len(DNA1)):\n",
    "        if DNA1[i] != DNA2[i]:\n",
    "            cnt = cnt + 1\n",
    "    return cnt\n",
    "import itertools\n",
    "mmatch = 1\n",
    "DNA = 'ACG'\n",
    "for string in itertools.imap(''.join, itertools.product(\"ACGT\", repeat=len(DNA))):\n",
    "    if hammingDistance(DNA,string)<=d:\n",
    "        print(string)"
   ]
  },
  {
   "cell_type": "markdown",
   "metadata": {},
   "source": [
    "Task6"
   ]
  },
  {
   "cell_type": "code",
   "execution_count": null,
   "metadata": {
    "collapsed": true
   },
   "outputs": [],
   "source": []
  }
 ],
 "metadata": {
  "anaconda-cloud": {},
  "kernelspec": {
   "display_name": "Python [default]",
   "language": "python",
   "name": "python2"
  },
  "language_info": {
   "codemirror_mode": {
    "name": "ipython",
    "version": 2
   },
   "file_extension": ".py",
   "mimetype": "text/x-python",
   "name": "python",
   "nbconvert_exporter": "python",
   "pygments_lexer": "ipython2",
   "version": "2.7.12"
  }
 },
 "nbformat": 4,
 "nbformat_minor": 1
}
