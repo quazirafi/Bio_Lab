{
 "cells": [
  {
   "cell_type": "markdown",
   "metadata": {},
   "source": [
    "BA3A"
   ]
  },
  {
   "cell_type": "code",
   "execution_count": 7,
   "metadata": {
    "collapsed": false
   },
   "outputs": [
    {
     "name": "stdout",
     "output_type": "stream",
     "text": [
      "CAATC\n",
      "AATCC\n",
      "ATCCA\n",
      "TCCAA\n",
      "CCAAC\n"
     ]
    }
   ],
   "source": [
    "def findKmer(Text, kmerLen):\n",
    "    for i in range (len(Text)-kmerLen+1):\n",
    "        str = Text[i:i+kmerLen]\n",
    "        print(str)\n",
    "findKmer(\"CAATCCAAC\",5)"
   ]
  },
  {
   "cell_type": "markdown",
   "metadata": {},
   "source": [
    "BA3E"
   ]
  },
  {
   "cell_type": "code",
   "execution_count": 50,
   "metadata": {
    "collapsed": false
   },
   "outputs": [
    {
     "name": "stdout",
     "output_type": "stream",
     "text": [
      "GGA -> GAG,\n",
      "GAG -> AGG,\n",
      "AGG -> GGG,\n",
      "CAG -> AGG,\n",
      "AGG,\n",
      "GGG -> GGG,\n",
      "GGA,\n"
     ]
    }
   ],
   "source": [
    "from collections import defaultdict\n",
    "def debruijn(edges):\n",
    "    adjList = defaultdict(list)\n",
    "    nodes = []\n",
    "    for i in range(len(edges)):\n",
    "        edge = \"\"\n",
    "        pre = \"\"\n",
    "        suf = \"\"\n",
    "        flg = 0\n",
    "        edge = edges[i]\n",
    "        pre = edges[i][0:len(edge)-1]\n",
    "        suf = edges[i][1:len(edge)]\n",
    "        adjList[pre].append(suf)\n",
    "        ii = 0\n",
    "    for key, values in adjList.items():\n",
    "        for val in values:\n",
    "            if ii==0:\n",
    "                ii=1\n",
    "                print(key + \" -> \" + str(val)+\",\")\n",
    "            else:\n",
    "                print(str(val)+\",\")\n",
    "        ii=0\n",
    "edges = [\"GAGG\",\"CAGG\",\"GGGG\",\"GGGA\",\"CAGG\",\"AGGG\",\"GGAG\"]\n",
    "debruijn(edges)"
   ]
  },
  {
   "cell_type": "markdown",
   "metadata": {
    "collapsed": true
   },
   "source": [
    "BA3B"
   ]
  },
  {
   "cell_type": "code",
   "execution_count": 1,
   "metadata": {
    "collapsed": false
   },
   "outputs": [
    {
     "name": "stdout",
     "output_type": "stream",
     "text": [
      "ACCGAAGCT\n"
     ]
    }
   ],
   "source": [
    "dnas = [\"ACCGA\",\"CCGAA\",\"CGAAG\",\"GAAGC\",\"AAGCT\"]\n",
    "i=0\n",
    "finaldna = \"\"\n",
    "for dna in dnas:\n",
    "    if i==0:\n",
    "        i+=1\n",
    "        finaldna+=dna\n",
    "    else:\n",
    "        finaldna+=dna[len(dna)-1]\n",
    "print(finaldna)"
   ]
  },
  {
   "cell_type": "markdown",
   "metadata": {
    "collapsed": true
   },
   "source": [
    "BA3C"
   ]
  },
  {
   "cell_type": "code",
   "execution_count": 11,
   "metadata": {
    "collapsed": false
   },
   "outputs": [
    {
     "name": "stdout",
     "output_type": "stream",
     "text": [
      "GCATG --> CATGC,\n",
      "CATGC --> ATGCG,\n",
      "AGGCA --> GGCAT,\n",
      "GGCAT --> GCATG,\n"
     ]
    }
   ],
   "source": [
    "dnas = [\"ATGCG\",\"GCATG\",\"CATGC\",\"AGGCA\",\"GGCAT\"]\n",
    "for dna1 in dnas:\n",
    "    for dna2 in dnas:\n",
    "        if dna1==dna2:\n",
    "            continue\n",
    "        elif dna1[1:len(dna1)] == dna2[0:len(dna2)-1] and dna1!=dna2:\n",
    "            print(\"%s --> %s,\"%(dna1,dna2))"
   ]
  },
  {
   "cell_type": "markdown",
   "metadata": {},
   "source": [
    "BA3D"
   ]
  },
  {
   "cell_type": "code",
   "execution_count": 1,
   "metadata": {
    "collapsed": false
   },
   "outputs": [
    {
     "name": "stdout",
     "output_type": "stream",
     "text": [
      "AAG --> \n",
      "AGA,\n",
      "TCT --> \n",
      "CTC,\n",
      "CTA,\n",
      "GAT --> \n",
      "ATT,\n",
      "AGA --> \n",
      "GAT,\n",
      "ATT --> \n",
      "TTC,\n",
      "CTA --> \n",
      "TAC,\n",
      "CTC --> \n",
      "TCT,\n",
      "TTC --> \n",
      "TCT,\n"
     ]
    }
   ],
   "source": [
    "dna = \"AAGATTCTCTAC\"\n",
    "kmerlen = 4-1\n",
    "kmers = []\n",
    "from collections import defaultdict\n",
    "finalkmers=defaultdict(list)\n",
    "for i in range(len(dna)-kmerlen+1):\n",
    "    if dna[i:i+kmerlen] not in kmers:\n",
    "        kmers.append(dna[i:i+kmerlen])\n",
    "for kmer1 in kmers:\n",
    "    for kmer2 in kmers:\n",
    "        if kmer1==kmer2:\n",
    "            continue\n",
    "        elif kmer1[1:len(kmer1)]==kmer2[0:len(kmer2)-1] and kmer1!=kmer2:\n",
    "                finalkmers[kmer1].append(kmer2)\n",
    "for key,values in finalkmers.iteritems():\n",
    "    print(\"%s --> \"%(key))\n",
    "    for value in values:\n",
    "        print(\"%s,\"%(value))"
   ]
  },
  {
   "cell_type": "markdown",
   "metadata": {},
   "source": [
    "BA3F"
   ]
  },
  {
   "cell_type": "code",
   "execution_count": 8,
   "metadata": {
    "collapsed": false
   },
   "outputs": [
    {
     "name": "stdout",
     "output_type": "stream",
     "text": [
      "6 -> 5 -> 4 -> 2 -> 1 -> 0 -> 3 -> 2 -> 6 -> 8 -> 7 -> 9 -> 6"
     ]
    }
   ],
   "source": [
    "from collections import defaultdict\n",
    "import sys\n",
    "edges = [\"0->3\",\"1->0\",\"2->1\",\"2->6\",\"3->2\",\"4->2\",\"5->4\",\"6->5\",\"6->8\",\"7->9\",\"8->7\",\"9->6\"]\n",
    "flagedges = defaultdict(list)\n",
    "for edge in edges:\n",
    "    flagedges[edge]=0\n",
    "def find_cycle(edge):\n",
    "    start = edge[0]\n",
    "    now = edge[len(edge)-1]\n",
    "    flagedges[edge] = 1\n",
    "    cycle = \"\"\n",
    "    cycle += str(start)\n",
    "    cycle += str(now)\n",
    "    while start!=now:\n",
    "        for eg in edges:\n",
    "            if eg[0]==now and flagedges[eg] == 0:\n",
    "                flagedges[eg] = 1\n",
    "                now = eg[len(eg)-1]\n",
    "                cycle += str(now)\n",
    "    return cycle\n",
    "flag = True\n",
    "while (flag):\n",
    "    for edge in edges:\n",
    "        count = 0\n",
    "        if flagedges[edge]==0:\n",
    "            finalcycle = \"\"\n",
    "            finalcycle = find_cycle(edge)\n",
    "        for ed in edges:\n",
    "            if flagedges[ed]==1:\n",
    "                count+=1\n",
    "        if count == len(edges):\n",
    "            flag = False\n",
    "            for i in range(len(finalcycle)-1):\n",
    "                sys.stdout.write(\"%c -> \"%(finalcycle[i]))\n",
    "            sys.stdout.write(\"%c\"%(finalcycle[len(finalcycle)-1]))\n",
    "            break\n",
    "        for edge in edges:\n",
    "            flagedges[edge]=0"
   ]
  },
  {
   "cell_type": "markdown",
   "metadata": {},
   "source": [
    "BA3G"
   ]
  },
  {
   "cell_type": "code",
   "execution_count": 1,
   "metadata": {
    "collapsed": false
   },
   "outputs": [
    {
     "name": "stdout",
     "output_type": "stream",
     "text": [
      "6 -> 7 -> 8 -> 9 -> 6 -> 3 -> 0 -> 2 -> 1 -> 3 -> 4"
     ]
    }
   ],
   "source": [
    "from collections import defaultdict\n",
    "import sys\n",
    "edges = [\"0->2\",\"1->3\",\"2->1\",\"3->0\",\"3->4\",\"6->3\",\"6->7\",\"7->8\",\"8->9\",\"9->6\"]\n",
    "flagedges = defaultdict(list)\n",
    "for edge in edges:\n",
    "    flagedges[edge]=0\n",
    "def find_cycle(edge):\n",
    "    start = edge[0]\n",
    "    now = edge[len(edge)-1]\n",
    "    flagedges[edge] = 1\n",
    "    cycle = \"\"\n",
    "    cycle += str(start)\n",
    "    cycle += str(now)\n",
    "    while (True):\n",
    "        flag3 = False\n",
    "        for eg in edges:\n",
    "            if eg[0]==now and flagedges[eg] == 0:\n",
    "                flagedges[eg] = 1\n",
    "                now = eg[len(eg)-1]\n",
    "                cycle += str(now)\n",
    "                flag3 = True\n",
    "                break\n",
    "        if flag3 == False:\n",
    "            break\n",
    "    return cycle\n",
    "flag = True\n",
    "while (flag):\n",
    "    for edge in edges:\n",
    "        count = 0\n",
    "        if flagedges[edge]==0:\n",
    "            finalcycle = \"\"\n",
    "            finalcycle = find_cycle(edge)\n",
    "        for ed in edges:\n",
    "            if flagedges[ed]==1:\n",
    "                count+=1\n",
    "        if count == len(edges):\n",
    "            flag = False\n",
    "            for i in range(len(finalcycle)-1):\n",
    "                sys.stdout.write(\"%c -> \"%(finalcycle[i]))\n",
    "            sys.stdout.write(\"%c\"%(finalcycle[len(finalcycle)-1]))\n",
    "            break\n",
    "        for edge in edges:\n",
    "            flagedges[edge]=0"
   ]
  },
  {
   "cell_type": "markdown",
   "metadata": {},
   "source": [
    "BA3H"
   ]
  },
  {
   "cell_type": "code",
   "execution_count": 6,
   "metadata": {
    "collapsed": false
   },
   "outputs": [
    {
     "name": "stdout",
     "output_type": "stream",
     "text": [
      "G -> G -> C -> T -> T -> A -> C -> C -> A"
     ]
    }
   ],
   "source": [
    "from collections import defaultdict\n",
    "import sys\n",
    "dnas = [\"CTTA\",\"ACCA\",\"TACC\",\"GGCT\",\"GCTT\",\"TTAC\"]\n",
    "edges = defaultdict(list)\n",
    "flagedges = defaultdict(list)\n",
    "for dna1 in dnas:\n",
    "    for dna2 in dnas:\n",
    "        if dna1==dna2:\n",
    "            continue\n",
    "        elif dna1[1:len(dna1)] == dna2[0:len(dna2)-1] and dna1!=dna2:\n",
    "            edges[dna1] = dna2\n",
    "for key,value in edges.iteritems():\n",
    "    flagedges[key] = 0\n",
    "def find_cycle(key):\n",
    "    start = key\n",
    "    now = edges[key]\n",
    "    flagedges[key] = 1\n",
    "    cycle = \"\"\n",
    "    cycle += str(start)\n",
    "    cycle += str(now[len(now)-1])\n",
    "    while (True):\n",
    "        flag3 = False\n",
    "        for key,value in edges.iteritems():\n",
    "            if key==now and flagedges[key] == 0:\n",
    "                flagedges[key] = 1\n",
    "                now = edges[key]\n",
    "                cycle += str(now[len(now)-1])\n",
    "                flag3 = True\n",
    "                break\n",
    "        if flag3 == False:\n",
    "            break\n",
    "    return cycle\n",
    "flag = True\n",
    "while (flag):\n",
    "    for key,value in edges.iteritems():\n",
    "        count = 0\n",
    "        if flagedges[key]==0:\n",
    "            finalcycle = \"\"\n",
    "            finalcycle = find_cycle(key)\n",
    "        for key1,value1 in edges.iteritems():\n",
    "            if flagedges[key1]==1:\n",
    "                count+=1\n",
    "        if count == len(edges):\n",
    "            flag = False\n",
    "            for i in range(len(finalcycle)-1):\n",
    "                sys.stdout.write(\"%c -> \"%(finalcycle[i]))\n",
    "            sys.stdout.write(\"%c\"%(finalcycle[len(finalcycle)-1]))\n",
    "            break\n",
    "        for key1,value1 in edges.iteritems():\n",
    "            flagedges[key1]=0"
   ]
  },
  {
   "cell_type": "markdown",
   "metadata": {},
   "source": [
    "BA3I"
   ]
  },
  {
   "cell_type": "code",
   "execution_count": 4,
   "metadata": {
    "collapsed": false
   },
   "outputs": [
    {
     "name": "stdout",
     "output_type": "stream",
     "text": [
      "1110000100110101"
     ]
    }
   ],
   "source": [
    "from itertools import product\n",
    "from collections import defaultdict\n",
    "import sys\n",
    "import math\n",
    "kmerlen = 4\n",
    "init_edges = product(\"01\",repeat=kmerlen)\n",
    "dnas = []\n",
    "for edge in init_edges:\n",
    "    sum_ch = \"\"\n",
    "    for ch in edge:\n",
    "        sum_ch+=str(ch)\n",
    "    dnas.append(sum_ch)\n",
    "edges = []\n",
    "flagedges = defaultdict(list)\n",
    "for dna1 in dnas:\n",
    "    edge = str(dna1[:len(dna1)-1])\n",
    "    edge += \"-\"\n",
    "    edge += str(dna1[1:])\n",
    "    edges.append(edge)\n",
    "for edge in edges:\n",
    "    flagedges[edge] = 0\n",
    "flagedges = defaultdict(list)\n",
    "for edge in edges:\n",
    "    flagedges[edge]=0\n",
    "def find_cycle(edge):\n",
    "    start_now = edge.split(\"-\")\n",
    "    start = start_now[0]\n",
    "    now = start_now[1]\n",
    "    flagedges[edge] = 1\n",
    "    cycle = \"\"\n",
    "    cycle += str(start)\n",
    "    cycle += str(now[len(now)-1])\n",
    "    while start!=now:\n",
    "        for eg in edges:\n",
    "            now_check_list = eg.split(\"-\")\n",
    "            now_check = now_check_list[0]\n",
    "            if now_check==now and flagedges[eg] == 0:\n",
    "                flagedges[eg] = 1\n",
    "                now = now_check_list[1]\n",
    "                cycle += str(now[len(now)-1])\n",
    "    return cycle\n",
    "flag = True\n",
    "while (flag):\n",
    "    for edge in edges:\n",
    "        count = 0\n",
    "        if flagedges[edge]==0:\n",
    "            finalcycle = \"\"\n",
    "            finalcycle = find_cycle(edge)\n",
    "        for ed in edges:\n",
    "            if flagedges[ed]==1:\n",
    "                count+=1\n",
    "        if count == len(edges):\n",
    "            flag = False\n",
    "            for i in range(int(math.pow(2,kmerlen))):\n",
    "                sys.stdout.write(\"%c\"%(finalcycle[i]))\n",
    "            break\n",
    "        for edge in edges:\n",
    "            flagedges[edge]=0"
   ]
  },
  {
   "cell_type": "markdown",
   "metadata": {
    "collapsed": true
   },
   "source": [
    "BA3J"
   ]
  },
  {
   "cell_type": "code",
   "execution_count": 4,
   "metadata": {
    "collapsed": false
   },
   "outputs": [
    {
     "name": "stdout",
     "output_type": "stream",
     "text": [
      "GTGGTCGTGAGATGTTGA\n"
     ]
    }
   ],
   "source": [
    "from itertools import product\n",
    "from collections import defaultdict\n",
    "import sys\n",
    "import math\n",
    "dnas = [\"GAGA|TTGA\",\"TCGT|GATG\",\"CGTG|ATGT\",\"TGGT|TGAG\",\"GTGA|TGTT\",\"GTGG|GTGA\",\"TGAG|GTTG\",\"GGTC|GAGA\",\"GTCG|AGAT\"]\n",
    "kmerlen = 4\n",
    "distance = 2\n",
    "kmer_dis = kmerlen+distance\n",
    "edges = []\n",
    "down_add = \"\"\n",
    "flagedges = defaultdict(list)\n",
    "for dna in dnas:\n",
    "    init_start_end = dna.split(\"|\")\n",
    "    init_start = init_start_end[0]\n",
    "    init_end = init_start_end[1]\n",
    "    edge = init_start[:len(init_start)-1]\n",
    "    edge += \"-\"\n",
    "    edge += init_end[:len(init_end)-1]\n",
    "    edge += \"-\"\n",
    "    edge += init_start[1:]\n",
    "    edge += \"-\"\n",
    "    edge += init_end[1:]\n",
    "    edges.append(edge)\n",
    "for edge in edges:\n",
    "    flagedges[edge] = 0\n",
    "def find_cycle(edge):\n",
    "    down_add = \"\"\n",
    "    start_now = edge.split(\"-\")\n",
    "    start = start_now[0]\n",
    "    start += start_now[1]\n",
    "    now = start_now[2]\n",
    "    now += start_now[3]\n",
    "    flagedges[edge] = 1\n",
    "    cycle = \"\"\n",
    "    cycle += str(start_now[0])\n",
    "    last_add = start_now[2]\n",
    "    cycle += str(last_add[len(last_add)-1])\n",
    "    down_add_temp = start_now[3]\n",
    "    down_add += str(down_add_temp[len(down_add_temp)-1])\n",
    "    while (True):\n",
    "        flag3 = False\n",
    "        for eg in edges:\n",
    "            start_now2 = eg.split(\"-\")\n",
    "            check_now = start_now2[0]\n",
    "            check_now += start_now2[1]\n",
    "            if check_now==now and flagedges[eg] == 0:\n",
    "                flagedges[eg] = 1\n",
    "                now = start_now2[2]\n",
    "                now += start_now2[3]\n",
    "                last_add2 = start_now2[2]\n",
    "                cycle += str(last_add2[len(last_add2)-1])\n",
    "                down_add_temp2 = start_now2[3]\n",
    "                down_add += str(down_add_temp2[len(down_add_temp2)-1])\n",
    "                flag3 = True\n",
    "                break\n",
    "        if flag3 == False:\n",
    "            break\n",
    "    if len(down_add)-kmer_dis>=0:\n",
    "        for i in range(len(down_add)-kmer_dis,len(down_add)):\n",
    "            cycle += str(down_add[i])\n",
    "    return cycle\n",
    "flag = True\n",
    "while (flag):\n",
    "    for edge in edges:\n",
    "        count = 0\n",
    "        if flagedges[edge]==0:\n",
    "            finalcycle = \"\"\n",
    "            finalcycle = find_cycle(edge)\n",
    "        for edge1 in edges:\n",
    "            if flagedges[edge1]==1:\n",
    "                count+=1\n",
    "        if count == len(edges):\n",
    "            flag = False\n",
    "            print(finalcycle)\n",
    "            break\n",
    "        for edge in edges:\n",
    "            flagedges[edge]=0"
   ]
  }
 ],
 "metadata": {
  "anaconda-cloud": {},
  "kernelspec": {
   "display_name": "Python [conda root]",
   "language": "python",
   "name": "conda-root-py"
  },
  "language_info": {
   "codemirror_mode": {
    "name": "ipython",
    "version": 2
   },
   "file_extension": ".py",
   "mimetype": "text/x-python",
   "name": "python",
   "nbconvert_exporter": "python",
   "pygments_lexer": "ipython2",
   "version": "2.7.12"
  }
 },
 "nbformat": 4,
 "nbformat_minor": 1
}
