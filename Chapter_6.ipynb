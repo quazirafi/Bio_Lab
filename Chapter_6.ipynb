{
 "cells": [
  {
   "cell_type": "markdown",
   "metadata": {},
   "source": [
    "BA6A"
   ]
  },
  {
   "cell_type": "code",
   "execution_count": 29,
   "metadata": {
    "collapsed": false
   },
   "outputs": [
    {
     "name": "stdout",
     "output_type": "stream",
     "text": [
      "[-1, -4, 3, 5, -2]\n",
      "[1, -4, 3, 5, -2]\n",
      "[1, 2, -5, -3, 4]\n",
      "[1, 2, 3, 5, 4]\n",
      "[1, 2, 3, -4, -5]\n",
      "[1, 2, 3, 4, -5]\n",
      "[1, 2, 3, 4, 5]\n"
     ]
    }
   ],
   "source": [
    "import sys\n",
    "sp = \"-3 +4 +1 +5 -2\"\n",
    "chars = sp.split(\" \")\n",
    "numbers = []\n",
    "for c in chars:\n",
    "    numbers.append(int(c))\n",
    "for i in range(1,len(numbers)+1):\n",
    "    if i==numbers[i-1]:\n",
    "        print(numbers)\n",
    "        continue\n",
    "    elif i==abs(numbers[i-1]):\n",
    "        numbers[i-1]*=(-1)\n",
    "        print(numbers)\n",
    "    else:\n",
    "        temp_list = []\n",
    "        j = i-1\n",
    "        while(True):\n",
    "            temp_list.append(numbers[j]*(-1))\n",
    "            if abs(numbers[j]) == i:\n",
    "                break\n",
    "            j+=1\n",
    "        l = len(temp_list)-1\n",
    "        k = i-1\n",
    "        while (l>=0):\n",
    "            numbers[k] = temp_list[l]\n",
    "            l-=1\n",
    "            k+=1\n",
    "        print(numbers)\n",
    "        if numbers[i-1] == (-1)*i:\n",
    "            numbers[i-1]*=(-1)\n",
    "            print(numbers)"
   ]
  },
  {
   "cell_type": "markdown",
   "metadata": {},
   "source": [
    "BA6B"
   ]
  },
  {
   "cell_type": "code",
   "execution_count": 36,
   "metadata": {
    "collapsed": false
   },
   "outputs": [
    {
     "name": "stdout",
     "output_type": "stream",
     "text": [
      "8\n"
     ]
    }
   ],
   "source": [
    "final_list = []\n",
    "final_list.append(0)\n",
    "input_string = \"+3 +4 +5 -12 -8 -7 -6 +1 +2 +10 +9 -11 +13 +14\"\n",
    "chars = input_string.split(\" \")\n",
    "numbers = []\n",
    "for c in chars:\n",
    "    numbers.append(int(c))\n",
    "for c in numbers:\n",
    "    final_list.append(c)\n",
    "final_list.append(len(numbers)+1)\n",
    "count = 0\n",
    "for i in range(1,len(final_list)):\n",
    "    if final_list[i]-final_list[i-1]!=1:\n",
    "        count+=1\n",
    "print(count)"
   ]
  },
  {
   "cell_type": "markdown",
   "metadata": {},
   "source": [
    "BA6F"
   ]
  },
  {
   "cell_type": "code",
   "execution_count": 46,
   "metadata": {
    "collapsed": false
   },
   "outputs": [
    {
     "name": "stdout",
     "output_type": "stream",
     "text": [
      "[2, 4, 3, 6, 5, 7, 8, 1]\n"
     ]
    }
   ],
   "source": [
    "chromosomes = \"+1 -2 -3 +4\"\n",
    "chars = chromosomes.split(\" \")\n",
    "numbers = []\n",
    "for c in chars: \n",
    "    numbers.append(int(c))\n",
    "nodes = []\n",
    "len_numbers = len(numbers)*2\n",
    "for i in range(0,len_numbers):\n",
    "    nodes.append(0)\n",
    "for j in range(len(numbers)):\n",
    "    i = numbers[j]\n",
    "    if i > 0:\n",
    "        ind = (2*j) - 1\n",
    "        ind2 = ind+1\n",
    "        nodes[ind] = (2*i) - 1\n",
    "        nodes[ind2] = 2*i\n",
    "    else:\n",
    "        ind = (2*j) - 1\n",
    "        ind2 = ind+1\n",
    "        nodes[ind] = -(2*i)\n",
    "        nodes[ind2] = -(2*i) - 1\n",
    "print(nodes)"
   ]
  },
  {
   "cell_type": "markdown",
   "metadata": {},
   "source": [
    "BA6G"
   ]
  },
  {
   "cell_type": "code",
   "execution_count": 86,
   "metadata": {
    "collapsed": false
   },
   "outputs": [
    {
     "name": "stdout",
     "output_type": "stream",
     "text": [
      "[1, -2, -3, 4]\n"
     ]
    }
   ],
   "source": [
    "def cc(nodes):\n",
    "    length = len(nodes)\n",
    "    chrom = []\n",
    "    for j in range(length/2):\n",
    "        if nodes[2*j] < nodes[2*j+1]:\n",
    "            chrom.append(nodes[2*j+1]/2)\n",
    "        else:\n",
    "            chrom.append(-nodes[2*j]/2)\n",
    "    return chrom\n",
    "chars = \"1 2 4 3 6 5 7 8\"\n",
    "chars = chars.split(\" \")\n",
    "numbers = []\n",
    "for c in chars: \n",
    "    numbers.append(int(c))\n",
    "print(cc(numbers))"
   ]
  },
  {
   "cell_type": "markdown",
   "metadata": {},
   "source": [
    "BA6H"
   ]
  },
  {
   "cell_type": "code",
   "execution_count": 98,
   "metadata": {
    "collapsed": false
   },
   "outputs": [
    {
     "name": "stdout",
     "output_type": "stream",
     "text": [
      "(2, 4), (3, 6), (5, 1), (8, 9), (10, 12), (11, 7), "
     ]
    }
   ],
   "source": [
    "def cc(chromosoms):\n",
    "    length = len(chromosoms)\n",
    "    nodes = [0]*(2*length)\n",
    "    for j in xrange(length):\n",
    "        i = int(chromosoms[j])\n",
    "        if i > 0:\n",
    "            nodes[2*j] = 2*i-1\n",
    "            nodes[2*j+1] = 2*i\n",
    "        else:\n",
    "            nodes[2*j] = -2*i\n",
    "            nodes[2*j+1] = -2*i-1\n",
    "\n",
    "    return nodes\n",
    "genome = \"(+1 -2 -3)(+4 +5 -6)\"\n",
    "chromosomes = genome.split(\")\")\n",
    "for i in range(len(chromosomes)):\n",
    "    chromosomes[i] = chromosomes[i].replace(\"(\",\"\").split(\" \")\n",
    "edge = {}\n",
    "for i in range(len(chromosomes)-1):\n",
    "    ch = chromosomes[i]\n",
    "    numbers = []\n",
    "    for c in ch: \n",
    "        numbers.append(int(c))\n",
    "    numbers.append(numbers[0])\n",
    "    nodes = cc(numbers)\n",
    "    for j in range(len(ch)):\n",
    "        edge[nodes[2*j+1]] = nodes[2*j+2]\n",
    "import sys\n",
    "for key,value in edge.iteritems():\n",
    "    sys.stdout.write(\"(%d, %d), \"%(key,value))"
   ]
  },
  {
   "cell_type": "markdown",
   "metadata": {},
   "source": [
    "BA6J"
   ]
  },
  {
   "cell_type": "code",
   "execution_count": 110,
   "metadata": {
    "collapsed": false
   },
   "outputs": [
    {
     "name": "stdout",
     "output_type": "stream",
     "text": [
      "[(2, 4), (3, 1), (7, 5), (6, 8)]\n"
     ]
    }
   ],
   "source": [
    "gen = \"(2, 4), (3, 8), (7, 5), (6, 1)\"\n",
    "ed = gen.split(\"), (\")\n",
    "ed[0] = ed[0].replace(\"(\",\"\")\n",
    "ed[len(ed)-1] = ed[len(ed)-1].replace(\")\",\"\")\n",
    "for i in xrange(len(ed)):\n",
    "    n1, n2 = ed[i].split(\",\")\n",
    "    ed[i] = (int(n1), (int(n2)))\n",
    "br = \"1, 6, 3, 8\"\n",
    "br = br.split(\",\")\n",
    "for i in range(len(br)):\n",
    "    br[i] = int(br[i])\n",
    "i = br[0]\n",
    "i_ = br[1]\n",
    "j = br[2]\n",
    "j_ = br[3]\n",
    "for l in range(len(ed)):\n",
    "    if ed[l] == (i, i_):\n",
    "        ed[l] = (j_, i_)\n",
    "    elif ed[l] == (i_, i):\n",
    "        ed[l] = (i_, j_)\n",
    "    elif ed[l] == (j, j_):\n",
    "        ed[l] = (j, i)\n",
    "    elif ed[l] == (j_, j):\n",
    "        ed[l] = (i, j)\n",
    "print(ed)"
   ]
  }
 ],
 "metadata": {
  "anaconda-cloud": {},
  "kernelspec": {
   "display_name": "Python [conda root]",
   "language": "python",
   "name": "conda-root-py"
  },
  "language_info": {
   "codemirror_mode": {
    "name": "ipython",
    "version": 2
   },
   "file_extension": ".py",
   "mimetype": "text/x-python",
   "name": "python",
   "nbconvert_exporter": "python",
   "pygments_lexer": "ipython2",
   "version": "2.7.12"
  }
 },
 "nbformat": 4,
 "nbformat_minor": 1
}
