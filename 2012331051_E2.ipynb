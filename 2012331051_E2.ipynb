{
 "cells": [
  {
   "cell_type": "code",
   "execution_count": 3,
   "metadata": {
    "collapsed": false,
    "scrolled": true
   },
   "outputs": [
    {
     "name": "stdout",
     "output_type": "stream",
     "text": [
      "hello\n"
     ]
    }
   ],
   "source": [
    "import Bio"
   ]
  },
  {
   "cell_type": "markdown",
   "metadata": {},
   "source": [
    "Task1"
   ]
  },
  {
   "cell_type": "code",
   "execution_count": 18,
   "metadata": {
    "collapsed": false
   },
   "outputs": [
    {
     "name": "stdout",
     "output_type": "stream",
     "text": [
      "0\n",
      "0\n",
      "2\n",
      "2\n",
      "0\n",
      "1\n",
      "3\n",
      "0\n",
      "0\n",
      "0\n",
      "1\n",
      "1\n",
      "0\n",
      "2\n",
      "0\n",
      "aaggatcaaattaga\n"
     ]
    }
   ],
   "source": [
    "import random\n",
    "def getRandDNA(k):\n",
    "    str =\"\"\n",
    "    for i in range(k):\n",
    "        num = random.randrange(4)\n",
    "        if num==0:\n",
    "            str+='a'\n",
    "        elif num==1:\n",
    "            str+='t'\n",
    "        elif num==2:\n",
    "            str+='g'\n",
    "        elif num==3:\n",
    "            str+='c'\n",
    "        print (num)\n",
    "    return str;\n",
    "print (getRandDNA(15))"
   ]
  },
  {
   "cell_type": "markdown",
   "metadata": {},
   "source": [
    "Task2\n"
   ]
  },
  {
   "cell_type": "code",
   "execution_count": 19,
   "metadata": {
    "collapsed": false
   },
   "outputs": [
    {
     "name": "stdout",
     "output_type": "stream",
     "text": [
      "3\n",
      "2\n",
      "0\n",
      "3\n",
      "1\n",
      "2\n",
      "2\n",
      "0\n",
      "2\n",
      "3\n",
      "1\n",
      "0\n",
      "1\n",
      "3\n",
      "1\n",
      "cgacuggagcuaucu\n"
     ]
    }
   ],
   "source": [
    "import random\n",
    "def getRandDNA(k):\n",
    "    str =\"\"\n",
    "    for i in range(k):\n",
    "        num = random.randrange(4)\n",
    "        if num==0:\n",
    "            str+='a'\n",
    "        elif num==1:\n",
    "            str+='u'\n",
    "        elif num==2:\n",
    "            str+='g'\n",
    "        elif num==3:\n",
    "            str+='c'\n",
    "        print (num)\n",
    "    return str;\n",
    "print (getRandDNA(15))"
   ]
  },
  {
   "cell_type": "markdown",
   "metadata": {},
   "source": [
    "Task3"
   ]
  },
  {
   "cell_type": "code",
   "execution_count": 43,
   "metadata": {
    "collapsed": false
   },
   "outputs": [
    {
     "name": "stdout",
     "output_type": "stream",
     "text": [
      "6\n",
      "a\n",
      "16.6666666667\n",
      "g\n",
      "33.3333333333\n",
      "c\n",
      "33.3333333333\n",
      "t\n",
      "16.6666666667\n",
      "None\n",
      "6\n",
      "a\n",
      "16.6666666667\n",
      "g\n",
      "33.3333333333\n",
      "c\n",
      "33.3333333333\n",
      "u\n",
      "16.6666666667\n",
      "None\n"
     ]
    }
   ],
   "source": [
    "def countNt(DNA,isDNA=True):\n",
    "    print(len(DNA))\n",
    "    a = float(DNA.count('a'))\n",
    "    print('a')\n",
    "    print((a/float(len(DNA)))*100)\n",
    "    g = float(DNA.count('g'))\n",
    "    print('g')\n",
    "    print((g/float(len(DNA)))*100)\n",
    "    c = float(DNA.count('c'))\n",
    "    print('c')\n",
    "    print((c/float(len(DNA)))*100)\n",
    "    if isDNA==True:\n",
    "        t = float(DNA.count('t'))\n",
    "        print('t')\n",
    "        print((t/float(len(DNA)))*100)\n",
    "    elif isDNA==False:\n",
    "        print('u')\n",
    "        u = float(DNA.count('u'))\n",
    "        print((u/float(len(DNA)))*100)\n",
    "print(countNt(\"atgcgc\",True))\n",
    "print(countNt(\"augcgc\",False))"
   ]
  },
  {
   "cell_type": "markdown",
   "metadata": {},
   "source": [
    "Task5"
   ]
  },
  {
   "cell_type": "code",
   "execution_count": 55,
   "metadata": {
    "collapsed": false,
    "scrolled": true
   },
   "outputs": [
    {
     "name": "stdout",
     "output_type": "stream",
     "text": [
      "augc\n"
     ]
    }
   ],
   "source": [
    "def convDNAtoRNA(DNA):\n",
    "    DNA = DNA.replace('t', 'u')\n",
    "    return DNA\n",
    "print(convDNAtoRNA('atgc'))"
   ]
  },
  {
   "cell_type": "code",
   "execution_count": null,
   "metadata": {
    "collapsed": true
   },
   "outputs": [],
   "source": []
  }
 ],
 "metadata": {
  "kernelspec": {
   "display_name": "Python [default]",
   "language": "python",
   "name": "python2"
  },
  "language_info": {
   "codemirror_mode": {
    "name": "ipython",
    "version": 2
   },
   "file_extension": ".py",
   "mimetype": "text/x-python",
   "name": "python",
   "nbconvert_exporter": "python",
   "pygments_lexer": "ipython2",
   "version": "2.7.12"
  }
 },
 "nbformat": 4,
 "nbformat_minor": 1
}
