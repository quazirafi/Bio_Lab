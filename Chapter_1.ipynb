{
 "cells": [
  {
   "cell_type": "markdown",
   "metadata": {},
   "source": [
    "BA1A"
   ]
  },
  {
   "cell_type": "code",
   "execution_count": 29,
   "metadata": {
    "collapsed": false
   },
   "outputs": [
    {
     "name": "stdout",
     "output_type": "stream",
     "text": [
      "AT\n",
      "TG\n",
      "GC\n",
      "C\n",
      "1\n"
     ]
    }
   ],
   "source": [
    "def PatternCount(Text, Pattern):\n",
    "    count = 0\n",
    "    length = len(Pattern)\n",
    "    for i in range (len(Text)):\n",
    "        str = Text[i:i+length]\n",
    "        print(str)\n",
    "        if str == Pattern:\n",
    "            count = count + 1\n",
    "    return count\n",
    "print (PatternCount(\"ATGC\",\"GC\"))"
   ]
  },
  {
   "cell_type": "markdown",
   "metadata": {},
   "source": [
    "BA1B"
   ]
  },
  {
   "cell_type": "code",
   "execution_count": 30,
   "metadata": {
    "collapsed": false
   },
   "outputs": [
    {
     "name": "stdout",
     "output_type": "stream",
     "text": [
      "CATG GCAT\n"
     ]
    }
   ],
   "source": [
    "def fWords( s, k ):\n",
    "    counts = {}\n",
    "    for i in xrange(len(s)-k+1):\n",
    "        if s[i:i+k] not in counts:\n",
    "            counts[s[i:i+k]] = 0\n",
    "        counts[s[i:i+k]] += 1\n",
    "    m = max(counts.values())\n",
    "    out = []\n",
    "    for kmer in counts:\n",
    "        if counts[kmer] == m:\n",
    "            out.append(kmer)\n",
    "    return out\n",
    "s = 'ACGTTGCATGTCGCATGATGCATGAGAGCT'\n",
    "k = 4\n",
    "print ' '.join(fWords(s,k))"
   ]
  },
  {
   "cell_type": "markdown",
   "metadata": {},
   "source": [
    "BA1D"
   ]
  },
  {
   "cell_type": "code",
   "execution_count": 42,
   "metadata": {
    "collapsed": false
   },
   "outputs": [
    {
     "name": "stdout",
     "output_type": "stream",
     "text": [
      "1\n",
      "3\n",
      "9\n"
     ]
    }
   ],
   "source": [
    "def PatternCount(Pattern,Text):\n",
    "    count = 0\n",
    "    length = len(Pattern)\n",
    "    for i in range (len(Text)-len(Pattern)+1):\n",
    "        str = Text[i:i+length]\n",
    "        if str == Pattern:\n",
    "            print(i)\n",
    "PatternCount(\"ATAT\",\"GATATATGCATATACTT\")"
   ]
  },
  {
   "cell_type": "markdown",
   "metadata": {
    "collapsed": true
   },
   "source": [
    "BA1C"
   ]
  },
  {
   "cell_type": "code",
   "execution_count": 16,
   "metadata": {
    "collapsed": false
   },
   "outputs": [
    {
     "name": "stdout",
     "output_type": "stream",
     "text": [
      "ACCGGGTTTT\n"
     ]
    }
   ],
   "source": [
    "import random\n",
    "def getRevComp(k):\n",
    "    str = \"\"\n",
    "    for i in range(len(k)):\n",
    "        if k[i]=='a' or k[i]=='A':\n",
    "            str+='T'\n",
    "        elif k[i]=='T' or k[i]=='t':\n",
    "            str+='A'\n",
    "        elif k[i]=='G' or k[i]=='g':\n",
    "            str+='C'\n",
    "        elif k[i]=='C' or k[i]=='c':\n",
    "            str+='G'\n",
    "    print(str[::-1])\n",
    "    return \n",
    "getRevComp(\"AAAACCCGGT\")"
   ]
  },
  {
   "cell_type": "markdown",
   "metadata": {},
   "source": [
    "BA1E"
   ]
  },
  {
   "cell_type": "code",
   "execution_count": 9,
   "metadata": {
    "collapsed": false
   },
   "outputs": [
    {
     "name": "stdout",
     "output_type": "stream",
     "text": [
      "CGACA\n",
      "GAAGA\n",
      "AATGT\n"
     ]
    }
   ],
   "source": [
    "dna = \"CGGACTCGACAGATGTGAAGAAATGTGAAGACTGAGTGAAGAGAAGAGGAAACACGACACGACATTGCGACATAATGTACGAATGTAATGTGCCTATGGC\"\n",
    "windowlen = 75\n",
    "kmerlen = 5\n",
    "mn = 4\n",
    "kmers = {}\n",
    "finalans = []\n",
    "for i in range(len(dna)-windowlen+1):\n",
    "    for j in range(i,i+windowlen-kmerlen+1):\n",
    "        kmers[dna[j:j+kmerlen]]=0\n",
    "for i in range(len(dna)-windowlen+1):\n",
    "    j = i\n",
    "    while j<i+windowlen-kmerlen+1:\n",
    "        kmers[dna[j:j+kmerlen]]+=1\n",
    "        j+=1\n",
    "    for key,value in kmers.iteritems():\n",
    "        if value>=mn:\n",
    "            if key not in finalans:\n",
    "                finalans.append(key)\n",
    "    for k in range(len(dna)-windowlen+1):\n",
    "        for l in range(k,k+windowlen-kmerlen+1):\n",
    "            kmers[dna[l:l+kmerlen]]=0\n",
    "for val in finalans:\n",
    "    print(val)"
   ]
  },
  {
   "cell_type": "markdown",
   "metadata": {},
   "source": [
    "BA1G"
   ]
  },
  {
   "cell_type": "code",
   "execution_count": 17,
   "metadata": {
    "collapsed": false
   },
   "outputs": [
    {
     "name": "stdout",
     "output_type": "stream",
     "text": [
      "3\n"
     ]
    }
   ],
   "source": [
    "dna1 = \"GGGCCGTTGGT\"\n",
    "dna2 = \"GGACCGTTGAC\"\n",
    "maxlen = min(len(dna1),len(dna2))\n",
    "count = 0\n",
    "for i in range(maxlen):\n",
    "    if dna1[i]!=dna2[i]:\n",
    "        count+=1\n",
    "print(count+abs(len(dna1)-len(dna2)))"
   ]
  },
  {
   "cell_type": "markdown",
   "metadata": {},
   "source": [
    "BA1F"
   ]
  },
  {
   "cell_type": "code",
   "execution_count": 23,
   "metadata": {
    "collapsed": false
   },
   "outputs": [
    {
     "name": "stdout",
     "output_type": "stream",
     "text": [
      "53\n",
      "97\n"
     ]
    }
   ],
   "source": [
    "dna = \"CCTATCGGTGGATTAGCATGTCCCTGTACGTTTCGCCGCGAACTAGTTCACACGGCTTGATGGCAAATGGTTTTTCCGGCGACCGTAATCGTCCACCGAG\"\n",
    "gcount = 0\n",
    "ccount = 0\n",
    "gcdict = {}\n",
    "for i in range(len(dna)):\n",
    "    if dna[i]=='C':\n",
    "        ccount+=1\n",
    "    elif dna[i]=='G':\n",
    "        gcount+=1\n",
    "    gcdict[i] = gcount-ccount\n",
    "for key,value in gcdict.iteritems():\n",
    "    if value==min(gcdict.values()):\n",
    "        print(key+1)"
   ]
  },
  {
   "cell_type": "markdown",
   "metadata": {},
   "source": [
    "BA1H"
   ]
  },
  {
   "cell_type": "code",
   "execution_count": 26,
   "metadata": {
    "collapsed": false
   },
   "outputs": [
    {
     "name": "stdout",
     "output_type": "stream",
     "text": [
      "[6, 7, 26, 27, 78]\n"
     ]
    }
   ],
   "source": [
    "def hd(dna1,dna2):\n",
    "    count = 0\n",
    "    for i in range(len(dna1)):\n",
    "        if dna1[i]!=dna2[i]:\n",
    "            count+=1\n",
    "    return count\n",
    "dna = \"CGCCCGAATCCAGAACGCATTCCCATATTTCGGGACCACTGGCCTCCACGGTACGGACGTCAATCAAATGCCTAGCGGCTTGTGGTTTCTCCTACGCTCC\"\n",
    "pattern = \"ATTCTGGA\"\n",
    "mx = 3\n",
    "pos = []\n",
    "for i in range(len(dna)-len(pattern)+1):\n",
    "    kmer = dna[i:i+len(pattern)]\n",
    "    hamdis = hd(pattern,kmer)\n",
    "    if hamdis<=mx:\n",
    "        pos.append(i)\n",
    "print(pos)"
   ]
  },
  {
   "cell_type": "markdown",
   "metadata": {},
   "source": [
    "BA1I"
   ]
  },
  {
   "cell_type": "code",
   "execution_count": 66,
   "metadata": {
    "collapsed": false
   },
   "outputs": [
    {
     "name": "stdout",
     "output_type": "stream",
     "text": [
      "ATGC\n",
      "GATG\n",
      "ATGT\n"
     ]
    }
   ],
   "source": [
    "def hd(dna1,dna2):\n",
    "    count = 0\n",
    "    for i in range(len(dna1)):\n",
    "        if dna1[i]!=dna2[i]:\n",
    "            count+=1\n",
    "    return count\n",
    "import itertools\n",
    "dna = \"ACGTTGCATGTCGCATGATGCATGAGAGCT\"\n",
    "kmerlen = 4\n",
    "mx = 1\n",
    "diskmers = itertools.product(\"ACGT\",repeat=kmerlen)\n",
    "finalans = {}\n",
    "kmers = []\n",
    "for kmer in diskmers:\n",
    "    ch = \"\"\n",
    "    for km in kmer:\n",
    "        ch+=km\n",
    "    finalans[ch] = 0\n",
    "    kmers.append(ch)\n",
    "for kmer in kmers:\n",
    "    for i in range(len(dna)-kmerlen+1):\n",
    "        hamdis = hd(kmer,dna[i:i+kmerlen])\n",
    "        if hamdis<=mx:\n",
    "            finalans[kmer]+=1\n",
    "for key,value in finalans.iteritems():\n",
    "    if value==max(finalans.values()):\n",
    "        print(key)"
   ]
  },
  {
   "cell_type": "markdown",
   "metadata": {},
   "source": [
    "BA1J"
   ]
  },
  {
   "cell_type": "code",
   "execution_count": 2,
   "metadata": {
    "collapsed": false
   },
   "outputs": [
    {
     "name": "stdout",
     "output_type": "stream",
     "text": [
      "ATGT\n"
     ]
    }
   ],
   "source": [
    "def hammingDistance(DNA1,DNA2):\n",
    "    cnt = 0\n",
    "    for i in range (len(DNA1)):\n",
    "        if DNA1[i] != DNA2[i]:\n",
    "            cnt = cnt + 1\n",
    "    return cnt\n",
    "\n",
    "def PatternCount(Text, Pattern, d):\n",
    "    count = 0\n",
    "    length = len(Pattern)\n",
    "    for i in range (len(Text)-len(Pattern)+1):\n",
    "        str = Text[i:i+length]\n",
    "        hd = hammingDistance(str,Pattern)\n",
    "        if hd <=d:\n",
    "            count = count + 1\n",
    "    return count\n",
    "\n",
    "Text = \"ACGTTGCATGTCGCATGATGCATGAGAGCT\"\n",
    "k = 4\n",
    "d = 1\n",
    "hd = 0\n",
    "kmers = {}\n",
    "for i in range (len(Text)-4+1):\n",
    "    str = Text[i:i+4]\n",
    "    #strrev = str[::-1]\n",
    "    strrev = []\n",
    "    for j in range (len(str)):\n",
    "        if str[j] == 'A':\n",
    "            strrev.append('T')\n",
    "        elif str[j] == 'T':\n",
    "            strrev.append('A')\n",
    "        elif str[j] == 'G':\n",
    "            strrev.append('C')\n",
    "        elif str[j] == 'C':\n",
    "            strrev.append('G')\n",
    "    strrev = strrev[::-1]\n",
    "    hd = PatternCount(Text,str,d) + PatternCount(Text,strrev,d)\n",
    "    kmers[str] = hd\n",
    "# max(kmers.items(), key=lambda x: x[1])\n",
    "# dict.get(key, default=None)\n",
    "mx = max(kmers.values())\n",
    "for key,value in kmers.iteritems():\n",
    "    if value==mx:\n",
    "        print(key)"
   ]
  },
  {
   "cell_type": "markdown",
   "metadata": {},
   "source": [
    "BA1N"
   ]
  },
  {
   "cell_type": "code",
   "execution_count": 3,
   "metadata": {
    "collapsed": false
   },
   "outputs": [
    {
     "name": "stdout",
     "output_type": "stream",
     "text": [
      "AAG\n",
      "ACA\n",
      "ACC\n",
      "ACG\n",
      "ACT\n",
      "AGG\n",
      "ATG\n",
      "CCG\n",
      "GCG\n",
      "TCG\n"
     ]
    }
   ],
   "source": [
    "def hammingDistance(DNA1,DNA2):\n",
    "    cnt = 0\n",
    "    for i in range (len(DNA1)):\n",
    "        if DNA1[i] != DNA2[i]:\n",
    "            cnt = cnt + 1\n",
    "    return cnt\n",
    "import itertools\n",
    "mmatch = 1\n",
    "DNA = 'ACG'\n",
    "for string in itertools.imap(''.join, itertools.product(\"ACGT\", repeat=len(DNA))):\n",
    "    if hammingDistance(DNA,string)<=d:\n",
    "        print(string)"
   ]
  },
  {
   "cell_type": "code",
   "execution_count": null,
   "metadata": {
    "collapsed": true
   },
   "outputs": [],
   "source": []
  }
 ],
 "metadata": {
  "anaconda-cloud": {},
  "kernelspec": {
   "display_name": "Python [default]",
   "language": "python",
   "name": "python2"
  },
  "language_info": {
   "codemirror_mode": {
    "name": "ipython",
    "version": 2
   },
   "file_extension": ".py",
   "mimetype": "text/x-python",
   "name": "python",
   "nbconvert_exporter": "python",
   "pygments_lexer": "ipython2",
   "version": "2.7.12"
  }
 },
 "nbformat": 4,
 "nbformat_minor": 1
}
