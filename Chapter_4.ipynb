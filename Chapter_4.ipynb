{
 "cells": [
  {
   "cell_type": "markdown",
   "metadata": {},
   "source": [
    "BA4C"
   ]
  },
  {
   "cell_type": "code",
   "execution_count": 48,
   "metadata": {
    "collapsed": false
   },
   "outputs": [
    {
     "name": "stdout",
     "output_type": "stream",
     "text": [
      "[('def', [0]), ('L', [113]), ('N', [114]), ('Q', [128]), ('E', [129]), ('NL', [227]), ('LE', [242]), ('QN', [242]), ('EQ', [257]), ('QNL', [355]), ('NLE', [356]), ('LEQ', [370]), ('EQN', [371]), ('LEQN', [484])]\n"
     ]
    }
   ],
   "source": [
    "import operator\n",
    "def GenTheoriticalSpec(string):\n",
    "    dic = {'L':113, 'E':129, 'Q':128, 'N':114, 'G':57,'A':71,'S':87,'P':97,'V':99,'T':101,'C':103,'I':113,'D':115,'K':128,'M':131,'H':137,'F':147,'R':156,'Y':163,'W':186}\n",
    "    length = len(string)\n",
    "    alist = defaultdict(list)\n",
    "    for i in range(length):\n",
    "        for j in range(i,length):\n",
    "            subpeptide = \"\"\n",
    "            subpeptide = string[i:j + 1]\n",
    "            if j==length-1 and len(subpeptide)<length:\n",
    "                for k in range(length-len(subpeptide)):\n",
    "                    if len(subpeptide)!=length:\n",
    "                        sum = 0\n",
    "                        for ii in range(len(subpeptide)):\n",
    "                            sum = sum + dic[subpeptide[ii]]\n",
    "                        alist[subpeptide].append(sum)\n",
    "                    subpeptide+=string[k]\n",
    "            if len(subpeptide)!=length:\n",
    "                sum = 0\n",
    "                for ii in range(len(subpeptide)):\n",
    "                    sum = sum + dic[subpeptide[ii]]\n",
    "                alist[subpeptide].append(sum)\n",
    "    sum= 0\n",
    "    for ii in range(len(string)):\n",
    "        sum = sum + dic[string[ii]]\n",
    "    alist[string].append(sum)\n",
    "    alist['def'].append(0)\n",
    "    print(sorted(alist.items(), key=operator.itemgetter(1)))\n",
    "    return\n",
    "GenTheoriticalSpec(\"LEQN\")"
   ]
  },
  {
   "cell_type": "markdown",
   "metadata": {
    "collapsed": true
   },
   "source": [
    "BA4A"
   ]
  },
  {
   "cell_type": "code",
   "execution_count": 2,
   "metadata": {
    "collapsed": false
   },
   "outputs": [
    {
     "name": "stdout",
     "output_type": "stream",
     "text": [
      "MAMAPRTEINSTRING*\n"
     ]
    }
   ],
   "source": [
    "codon_nucleotide = {\"AUG\":\"M\",\n",
    "\"AUA\":\"I\",\n",
    "\"AUC\":\"I\",\n",
    "\"AUU\":\"I\",\n",
    "\"AGG\":\"R\",\n",
    "\"AGA\":\"R\",\n",
    "\"AGC\":\"S\",\n",
    "\"AGU\":\"S\",\n",
    "\"ACG\":\"T\",\n",
    "\"ACA\":\"T\",\n",
    "\"ACC\":\"T\",\n",
    "\"ACU\":\"T\",\n",
    "\"AAG\":\"K\",\n",
    "\"AAA\":\"K\",\n",
    "\"AAC\":\"N\",\n",
    "\"AAU\":\"N\",\n",
    "\"UUG\":\"L\",\n",
    "\"UUA\":\"L\",\n",
    "\"UUC\":\"F\",\n",
    "\"UUU\":\"F\",\n",
    "\"UGG\":\"W\",\n",
    "\"UGA\":\"*\",\n",
    "\"UGC\":\"C\",\n",
    "\"UGU\":\"C\",\n",
    "\"UCG\":\"S\",\n",
    "\"UCA\":\"S\",\n",
    "\"UCC\":\"S\",\n",
    "\"UCU\":\"S\",\n",
    "\"UAG\":\"*\",\n",
    "\"UAA\":\"*\",\n",
    "\"UAC\":\"Y\",\n",
    "\"UAU\":\"Y\",\n",
    "\"GUG\":\"V\",\n",
    "\"GUA\":\"V\",\n",
    "\"GUC\":\"V\",\n",
    "\"GUU\":\"V\",\n",
    "\"GGG\":\"G\",\n",
    "\"GGA\":\"G\",\n",
    "\"GGC\":\"G\",\n",
    "\"GGU\":\"G\",\n",
    "\"GCG\":\"A\",\n",
    "\"GCA\":\"A\",\n",
    "\"GCC\":\"A\",\n",
    "\"GCU\":\"A\",\n",
    "\"GAG\":\"E\",\n",
    "\"GAA\":\"E\",\n",
    "\"GAC\":\"D\",\n",
    "\"GAU\":\"D\",\n",
    "\"CUG\":\"L\",\n",
    "\"CUA\":\"L\",\n",
    "\"CUC\":\"L\",\n",
    "\"CUU\":\"L\",\n",
    "\"CGG\":\"R\",\n",
    "\"CGA\":\"R\",\n",
    "\"CGC\":\"R\",\n",
    "\"CGU\":\"R\",\n",
    "\"CCG\":\"P\",\n",
    "\"CCA\":\"P\",\n",
    "\"CCC\":\"P\",\n",
    "\"CCU\":\"P\",\n",
    "\"CAG\":\"Q\",\n",
    "\"CAA\":\"Q\",\n",
    "\"CAC\":\"H\",\n",
    "\"CAU\":\"H\"}\n",
    "rna = \"AUGGCCAUGGCGCCCAGAACUGAGAUCAAUAGUACCCGUAUUAACGGGUGA\"\n",
    "neucleotide = \"\"\n",
    "for i in range(len(rna)):\n",
    "\tif int((i+1)%3) == 0:\n",
    "\t\tcod = rna[i-2:i+1]\n",
    "\t\tneucleotide += str(codon_nucleotide[cod])\n",
    "print(neucleotide)"
   ]
  },
  {
   "cell_type": "markdown",
   "metadata": {
    "collapsed": false
   },
   "source": [
    "BA4D"
   ]
  },
  {
   "cell_type": "code",
   "execution_count": 8,
   "metadata": {
    "collapsed": false
   },
   "outputs": [
    {
     "name": "stdout",
     "output_type": "stream",
     "text": [
      "14712706211\n"
     ]
    }
   ],
   "source": [
    "import sys\n",
    "from collections import defaultdict\n",
    "from itertools import product\n",
    "peptidemasses = [57,71,87,97,99,101,103,113,114,115,128,129,131,137,147,156,163,186]\n",
    "m = 1024\n",
    "masses = []\n",
    "for i in range(0,m+2):\n",
    "    masses.append(0)\n",
    "masses[0] = 1\n",
    "for i in range(0,m+1):\n",
    "    for j in range(len(peptidemasses)):\n",
    "        if i>=peptidemasses[j]:\n",
    "            masses[i]+=masses[i-peptidemasses[j]]\n",
    "print(masses[m])"
   ]
  },
  {
   "cell_type": "markdown",
   "metadata": {},
   "source": [
    "BA4G"
   ]
  },
  {
   "cell_type": "code",
   "execution_count": 25,
   "metadata": {
    "collapsed": false
   },
   "outputs": [
    {
     "name": "stdout",
     "output_type": "stream",
     "text": [
      "\n"
     ]
    }
   ],
   "source": [
    "import sys\n",
    "from collections import defaultdict\n",
    "peptide_to_mass = {'':-1, 'L':113, 'E':129, 'Q':128, 'N':114, 'G':57,'A':71,'S':87,'P':97,'V':99,'T':101,'C':103,'I':113,'D':115,'K':128,'M':131,'H':137,'F':147,'R':156,'Y':163,'W':186}\n",
    "n = 10\n",
    "spectrum = [0, 71, 113, 129, 147, 200, 218, 260, 313, 331, 347, 389, 460]\n",
    "leaderboard = []\n",
    "leaderboard.append(\"\")\n",
    "leaderscore = 0\n",
    "leaderpeptide = \"\"\n",
    "def cut(leaderboard):\n",
    "    scores = []\n",
    "    for lead in leaderboard:\n",
    "        scores.append(getscore(lead))\n",
    "    scores.sort()\n",
    "    nthhighestscore = -1\n",
    "    if len(scores)==0:\n",
    "        nthhighestscore = 0\n",
    "    elif len(scores)>=n:\n",
    "        nthhighestscore = scores[len(scores)-n]\n",
    "    else:\n",
    "        nthhighestscore = scores[0]\n",
    "    out = []\n",
    "    for lead in leaderboard:\n",
    "        if getscore(lead)>=nthhighestscore:\n",
    "            out.append(lead)\n",
    "    return out\n",
    "def expandpeps(leaderboard):\n",
    "    out = []\n",
    "    for i in range(len(leaderboard)):\n",
    "        curr = leaderboard[i]\n",
    "        for key,value in peptide_to_mass.iteritems():\n",
    "            out.append(curr+key)\n",
    "    return out\n",
    "def getmass(peptide):\n",
    "    totalmass = 0\n",
    "    for pep in peptide:\n",
    "        totalmass += peptide_to_mass[pep]\n",
    "    return totalmass\n",
    "def getscore(peptide):\n",
    "    peptidespectrum = defaultdict(list)\n",
    "    peptidespectrum = GenTheoriticalSpec(peptide)\n",
    "    total_score = 0\n",
    "    for key,value in peptidespectrum.iteritems():\n",
    "        has = False\n",
    "        for val in spectrum:\n",
    "            if val==value:\n",
    "                has = True\n",
    "                break\n",
    "        if has == True:\n",
    "            total_score += 1\n",
    "    return total_score\n",
    "def GenTheoriticalSpec(string):\n",
    "    dic = {'':-1, 'L':113, 'E':129, 'Q':128, 'N':114, 'G':57,'A':71,'S':87,'P':97,'V':99,'T':101,'C':103,'I':113,'D':115,'K':128,'M':131,'H':137,'F':147,'R':156,'Y':163,'W':186}\n",
    "    length = len(string)\n",
    "    alist = defaultdict(list)\n",
    "    for i in range(length):\n",
    "        for j in range(i,length):\n",
    "            subpeptide = \"\"\n",
    "            subpeptide = string[i:j + 1]\n",
    "            if j==length-1 and len(subpeptide)<length:\n",
    "                for k in range(length-len(subpeptide)):\n",
    "                    if len(subpeptide)!=length:\n",
    "                        sm = 0\n",
    "                        for ii in range(len(subpeptide)):\n",
    "                            sm = sm + dic[subpeptide[ii]]\n",
    "                        alist[subpeptide].append(sm)\n",
    "                    subpeptide+=string[k]\n",
    "            if len(subpeptide)!=length:\n",
    "                sm = 0\n",
    "                for ii in range(len(subpeptide)):\n",
    "                    sm = sm + dic[subpeptide[ii]]\n",
    "                alist[subpeptide].append(sm)\n",
    "    sm= 0\n",
    "    for ii in range(len(string)):\n",
    "        sm = sm + dic[string[ii]]\n",
    "    alist[string].append(sm)\n",
    "    alist['def'].append(0)\n",
    "    return alist\n",
    "while len(leaderboard)!=0:\n",
    "    leaderboard = expandpeps(leaderboard)\n",
    "    print(len(leaderboard))\n",
    "    try:\n",
    "        for i in range(0,len(leaderboard)):\n",
    "            peptide = leaderboard[i]\n",
    "            currmass = getmass(peptide)\n",
    "            if currmass == spectrum[len(spectrum)-1]:\n",
    "                currscore = getscore(peptide)\n",
    "                if currscore > leaderscore:\n",
    "                    leaderpeptide = peptide\n",
    "                    leaderscore = currscore\n",
    "            elif currmass > spectrum[len(spectrum)-1]:\n",
    "                leaderboard.remove(peptide)\n",
    "    except:\n",
    "        asda = \"as\"\n",
    "    leaderboard = cut(leaderboard)"
   ]
  },
  {
   "cell_type": "markdown",
   "metadata": {},
   "source": [
    "BA4H"
   ]
  },
  {
   "cell_type": "code",
   "execution_count": 49,
   "metadata": {
    "collapsed": false
   },
   "outputs": [
    {
     "name": "stdout",
     "output_type": "stream",
     "text": [
      "137 137 186 186 323 49 "
     ]
    }
   ],
   "source": [
    "import sys\n",
    "import operator\n",
    "from collections import defaultdict\n",
    "spectrum = [0, 137, 186, 323]\n",
    "dic = {}\n",
    "for i in range(len(spectrum)):\n",
    "    for j in range(len(spectrum)):\n",
    "        if (spectrum[i]-spectrum[j]>=0):\n",
    "            dic[spectrum[i]-spectrum[j]] = 0\n",
    "for i in range(len(spectrum)):\n",
    "    for j in range(len(spectrum)):\n",
    "        if (spectrum[i]-spectrum[j]>=0):\n",
    "            dic[spectrum[i]-spectrum[j]] += 1\n",
    "sorted(dic.items())\n",
    "for key,value in dic.iteritems():\n",
    "    if key > 0:\n",
    "        for i in range(value):\n",
    "            sys.stdout.write(\"%d \"%(key))"
   ]
  },
  {
   "cell_type": "markdown",
   "metadata": {
    "collapsed": true
   },
   "source": [
    "BA4J"
   ]
  },
  {
   "cell_type": "code",
   "execution_count": 14,
   "metadata": {
    "collapsed": false
   },
   "outputs": [
    {
     "name": "stdout",
     "output_type": "stream",
     "text": [
      "[0, 113, 114, 128, 129, 242, 242, 257, 370, 371, 484]\n"
     ]
    }
   ],
   "source": [
    "peptide = \"NQEL\"\n",
    "spectrum = []\n",
    "pep_to_mass = {'L':113, 'E':129, 'Q':128, 'N':114, 'G':57,'A':71,'S':87,'P':97,'V':99,'T':101,'C':103,'I':113,'D':115,'K':128,'M':131,'H':137,'F':147,'R':156,'Y':163,'W':186}\n",
    "for i in range(1,len(peptide)+1):\n",
    "    for j in range(len(peptide)-i+1):\n",
    "        kmer = peptide[j:j+i]\n",
    "        mass_sum = 0\n",
    "        for c in kmer:\n",
    "            mass_sum += pep_to_mass[c]\n",
    "        spectrum.append(mass_sum)\n",
    "spectrum.append(0)\n",
    "print(sorted(spectrum))"
   ]
  },
  {
   "cell_type": "markdown",
   "metadata": {},
   "source": [
    "BA4K"
   ]
  },
  {
   "cell_type": "code",
   "execution_count": 18,
   "metadata": {
    "collapsed": false
   },
   "outputs": [
    {
     "name": "stdout",
     "output_type": "stream",
     "text": [
      "8\n"
     ]
    }
   ],
   "source": [
    "peptide = \"NQEL\"\n",
    "spectrum2 = [0, 99, 113, 114, 128, 227, 257, 299, 355, 356, 370, 371, 484]\n",
    "spectrum = []\n",
    "pep_to_mass = {'L':113, 'E':129, 'Q':128, 'N':114, 'G':57,'A':71,'S':87,'P':97,'V':99,'T':101,'C':103,'I':113,'D':115,'K':128,'M':131,'H':137,'F':147,'R':156,'Y':163,'W':186}\n",
    "for i in range(1,len(peptide)+1):\n",
    "    for j in range(len(peptide)-i+1):\n",
    "        kmer = peptide[j:j+i]\n",
    "        mass_sum = 0\n",
    "        for c in kmer:\n",
    "            mass_sum += pep_to_mass[c]\n",
    "        if mass_sum not in spectrum:\n",
    "            spectrum.append(mass_sum)\n",
    "spectrum.append(0)\n",
    "count = 0\n",
    "for mass1 in spectrum:\n",
    "    for mass2 in spectrum2:\n",
    "        if mass1==mass2:\n",
    "            count+=1\n",
    "print(count)"
   ]
  },
  {
   "cell_type": "markdown",
   "metadata": {},
   "source": [
    "BA4L"
   ]
  },
  {
   "cell_type": "code",
   "execution_count": 43,
   "metadata": {
    "collapsed": false
   },
   "outputs": [
    {
     "name": "stdout",
     "output_type": "stream",
     "text": [
      "['ALST', 'LAST']\n"
     ]
    }
   ],
   "source": [
    "peptides = [\"LAST\", \"ALST\", \"TLLT\", \"TQAS\"]\n",
    "spectrum2 = [0, 71, 87, 101, 113, 158, 184, 188, 259, 271, 372]\n",
    "keep = 2\n",
    "pep_to_mass = {'L':113, 'E':129, 'Q':128, 'N':114, 'G':57,'A':71,'S':87,'P':97,'V':99,'T':101,'C':103,'I':113,'D':115,'K':128,'M':131,'H':137,'F':147,'R':156,'Y':163,'W':186}\n",
    "def findscorepeptide(peptide,spectrum2):\n",
    "    spectrum = []\n",
    "    for i in range(1,len(peptide)+1):\n",
    "        for j in range(len(peptide)-i+1):\n",
    "            kmer = peptide[j:j+i]\n",
    "            mass_sum = 0\n",
    "            for c in kmer:\n",
    "                mass_sum += pep_to_mass[c]\n",
    "            if mass_sum not in spectrum:\n",
    "                spectrum.append(mass_sum)\n",
    "    spectrum.append(0)\n",
    "    count = 0\n",
    "    for mass1 in spectrum:\n",
    "        for mass2 in spectrum2:\n",
    "            if mass1==mass2:\n",
    "                count+=1\n",
    "    return count\n",
    "peptide_score = {}\n",
    "for pep in peptides:\n",
    "    peptide_score[pep] = 0\n",
    "for pep in peptides:\n",
    "    peptide_score[pep] = findscorepeptide(pep,spectrum2)\n",
    "sorted_values = sorted(peptide_score.values())\n",
    "count = 0\n",
    "target = 0\n",
    "for i in range(len(sorted_values)-1,-1,-1):\n",
    "    count+=1\n",
    "    if count==keep:\n",
    "        target = i\n",
    "final_ans = []\n",
    "for key,value in peptide_score.iteritems():\n",
    "    if value>=sorted_values[target]:\n",
    "        final_ans.append(key)\n",
    "print(final_ans)"
   ]
  }
 ],
 "metadata": {
  "anaconda-cloud": {},
  "kernelspec": {
   "display_name": "Python [conda root]",
   "language": "python",
   "name": "conda-root-py"
  },
  "language_info": {
   "codemirror_mode": {
    "name": "ipython",
    "version": 2
   },
   "file_extension": ".py",
   "mimetype": "text/x-python",
   "name": "python",
   "nbconvert_exporter": "python",
   "pygments_lexer": "ipython2",
   "version": "2.7.12"
  }
 },
 "nbformat": 4,
 "nbformat_minor": 1
}
