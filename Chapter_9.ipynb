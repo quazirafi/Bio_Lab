{
 "cells": [
  {
   "cell_type": "markdown",
   "metadata": {},
   "source": [
    "BA9A"
   ]
  },
  {
   "cell_type": "code",
   "execution_count": 19,
   "metadata": {
    "collapsed": false
   },
   "outputs": [
    {
     "name": "stdout",
     "output_type": "stream",
     "text": [
      "0->1:A\n",
      "1->2:T\n",
      "2->3:A\n",
      "3->4:G\n",
      "4->5:A\n",
      "2->6:C\n",
      "0->7:G\n",
      "7->8:A\n",
      "8->9:T\n"
     ]
    }
   ],
   "source": [
    "from collections import namedtuple\n",
    "edge_comp_struct = namedtuple(\"edge_comp_struct\",\"start label end\")\n",
    "edges = []\n",
    "patterns = [\"ATAGA\",\"ATC\",\"GAT\"]\n",
    "node_counter = 1\n",
    "for pattern in patterns:\n",
    "    current_node = 0\n",
    "    for i in range(len(pattern)):\n",
    "        flag = True\n",
    "        for edge in edges:\n",
    "            if edge.start==current_node and edge.label==pattern[i]:\n",
    "                edge_comps = edge_comp_struct(current_node,pattern[i],edge.end)\n",
    "                if edge_comps not in edges:\n",
    "                    edges.append(edge_comps)\n",
    "                current_node = edge.end\n",
    "                flag = False\n",
    "        if flag == True:\n",
    "            edge_comps = edge_comp_struct(current_node,pattern[i],node_counter)\n",
    "            edges.append(edge_comps)\n",
    "            current_node = node_counter\n",
    "            node_counter+=1\n",
    "import sys\n",
    "for edge in edges:\n",
    "    sys.stdout.write(\"%d->%d:%c\\n\"%(edge.start,edge.end,edge.label))"
   ]
  },
  {
   "cell_type": "markdown",
   "metadata": {},
   "source": [
    "BA9B"
   ]
  },
  {
   "cell_type": "code",
   "execution_count": 29,
   "metadata": {
    "collapsed": false
   },
   "outputs": [
    {
     "name": "stdout",
     "output_type": "stream",
     "text": [
      "1 4 11 15 "
     ]
    }
   ],
   "source": [
    "from collections import namedtuple\n",
    "edge_comp_struct = namedtuple(\"edge_comp_struct\",\"start label end\")\n",
    "edges = []\n",
    "patterns = [\"ATCG\",\"GGGT\"]\n",
    "not_leafs = []\n",
    "node_counter = 1\n",
    "for pattern in patterns:\n",
    "    current_node = 0\n",
    "    for i in range(len(pattern)):\n",
    "        flag = True\n",
    "        for edge in edges:\n",
    "            if edge.start==current_node and edge.label==pattern[i]:\n",
    "                edge_comps = edge_comp_struct(current_node,pattern[i],edge.end)\n",
    "                if edge_comps not in edges:\n",
    "                    if edge.start not in not_leafs:\n",
    "                        not_leafs.append(edge.start)\n",
    "                    edges.append(edge_comps)\n",
    "                current_node = edge.end\n",
    "                flag = False\n",
    "        if flag == True:\n",
    "            edge_comps = edge_comp_struct(current_node,pattern[i],node_counter)\n",
    "            if current_node not in not_leafs:\n",
    "                not_leafs.append(current_node)\n",
    "            edges.append(edge_comps)\n",
    "            current_node = node_counter\n",
    "            node_counter+=1\n",
    "def prefix_trie_matching(Text):\n",
    "    symbol = Text[0]\n",
    "    v = 0\n",
    "    i = 1\n",
    "    while (True):\n",
    "        if v not in not_leafs:\n",
    "            return True\n",
    "        else:\n",
    "            flag2 = True\n",
    "            for edge in edges:\n",
    "                if edge.start == v and edge.label==symbol:\n",
    "                    v = edge.end\n",
    "                    if (i<len(Text)):\n",
    "                        symbol = Text[i]\n",
    "                        i+=1\n",
    "                    flag2 = False\n",
    "                    break\n",
    "            if flag2 == True:\n",
    "                return False\n",
    "import sys\n",
    "text = \"AATCGGGTTCAATCGGGGT\"\n",
    "for i in range(len(text)):\n",
    "    flag3 = prefix_trie_matching(text[i:])\n",
    "    if flag3 == True:\n",
    "        sys.stdout.write(\"%d \"%(i))"
   ]
  },
  {
   "cell_type": "markdown",
   "metadata": {
    "collapsed": true
   },
   "source": [
    "BA9I"
   ]
  },
  {
   "cell_type": "code",
   "execution_count": 2,
   "metadata": {
    "collapsed": false
   },
   "outputs": [
    {
     "name": "stdout",
     "output_type": "stream",
     "text": [
      "ACTGGCT$TGCGGC"
     ]
    }
   ],
   "source": [
    "genome = \"GCGTGCCTGGTCA$\"\n",
    "burrow_wheeler_trans_table = []\n",
    "def burrow_wheeler_trans(index):\n",
    "    if index>=len(genome):\n",
    "        return \n",
    "    else:\n",
    "        st = genome[index:]\n",
    "        st += genome[:((index+len(genome)) % len(genome))]\n",
    "        return st\n",
    "for i in range(len(genome)-1,-1,-1):\n",
    "    col = burrow_wheeler_trans(i)\n",
    "    burrow_wheeler_trans_table.append(col)\n",
    "burrow_wheeler_trans_table.sort()\n",
    "import sys\n",
    "for row in burrow_wheeler_trans_table:\n",
    "   sys.stdout.write(\"%c\"%(row[len(row)-1]))"
   ]
  },
  {
   "cell_type": "markdown",
   "metadata": {},
   "source": [
    "BA9J"
   ]
  },
  {
   "cell_type": "code",
   "execution_count": 23,
   "metadata": {
    "collapsed": false
   },
   "outputs": [
    {
     "name": "stdout",
     "output_type": "stream",
     "text": [
      "TACATCACGT$"
     ]
    }
   ],
   "source": [
    "last_col = \"TTCCTAACG$A\"\n",
    "fir_col_chars = sorted(last_col)\n",
    "fir_col = \"\"\n",
    "for ch in fir_col_chars:\n",
    "    fir_col += ch\n",
    "fir_col_list = []\n",
    "last_col_list = []\n",
    "fir_col_ind = {}\n",
    "last_col_ind = {}\n",
    "for i in range(len(fir_col)):\n",
    "    if fir_col[i] in fir_col_ind:\n",
    "        fir_col_ind[fir_col[i]] += 1\n",
    "    else:\n",
    "        fir_col_ind[fir_col[i]] = 1\n",
    "    fir_col_list.append((fir_col[i],fir_col_ind[fir_col[i]]))\n",
    "    if last_col[i] in last_col_ind:\n",
    "        last_col_ind[last_col[i]] += 1\n",
    "    else:\n",
    "        last_col_ind[last_col[i]] = 1\n",
    "    last_col_list.append((last_col[i],last_col_ind[last_col[i]]))\n",
    "final_ans = []\n",
    "final_ans.append(fir_col[0])\n",
    "index = 0\n",
    "for i in range(len(fir_col)-1):\n",
    "    final_ans.append(last_col[index])\n",
    "    index = fir_col_list.index((final_ans[-1], last_col_list[index][1]))\n",
    "import sys\n",
    "for i in range(len(final_ans)-1,-1,-1):\n",
    "    sys.stdout.write(\"%c\"%(final_ans[i]))"
   ]
  },
  {
   "cell_type": "markdown",
   "metadata": {},
   "source": [
    "BA9M"
   ]
  },
  {
   "cell_type": "code",
   "execution_count": 28,
   "metadata": {
    "collapsed": false
   },
   "outputs": [
    {
     "name": "stdout",
     "output_type": "stream",
     "text": [
      "1 2 1 "
     ]
    }
   ],
   "source": [
    "last_col = \"GGCGCCGC$TAGTCACACACGCCGTA\"\n",
    "first_col = ''.join(sorted(last_col))\n",
    "patterns = [\"ACC\", \"CCG\", \"CAG\"]\n",
    "def betterbwmatch(pattern):\n",
    "    top = 0\n",
    "    bottom = len(last_col)-1\n",
    "    while top<=bottom:\n",
    "        if (pattern):\n",
    "            symbol = pattern[-1]\n",
    "            pattern = pattern[:-1]\n",
    "            if symbol in last_col[top:bottom+1]:\n",
    "                top = first_col.find(symbol) + last_col.count(symbol,0,top)\n",
    "                bottom = first_col.find(symbol) + last_col.count(symbol,0,bottom + 1) - 1\n",
    "            else:\n",
    "                return 0\n",
    "        else:\n",
    "            return bottom-top+1\n",
    "final_ans = []\n",
    "for pattern in patterns:\n",
    "    final_ans.append(betterbwmatch(pattern))\n",
    "import sys\n",
    "for ans in final_ans:\n",
    "    sys.stdout.write(\"%d \"%(ans))"
   ]
  },
  {
   "cell_type": "markdown",
   "metadata": {},
   "source": [
    "BA9N"
   ]
  },
  {
   "cell_type": "code",
   "execution_count": 39,
   "metadata": {
    "collapsed": false
   },
   "outputs": [
    {
     "name": "stdout",
     "output_type": "stream",
     "text": [
      "1 4 11 15 "
     ]
    }
   ],
   "source": [
    "from collections import defaultdict\n",
    "text = \"AATCGGGTTCAATCGGGGT\"\n",
    "patterns = [\"ATCG\", \"GGGT\"]\n",
    "start = 0\n",
    "start_pos = defaultdict(list)\n",
    "while start+len(patterns[0]) <= len(text):\n",
    "    start_pos[text[start:start+len(patterns[0])]].append(start)\n",
    "    start += 1\n",
    "    positions = []\n",
    "    for pattern in patterns:\n",
    "        positions+=(start_pos[pattern])\n",
    "import sys\n",
    "positions.sort()\n",
    "for pos in positions:\n",
    "    sys.stdout.write(\"%d \"%(pos))"
   ]
  },
  {
   "cell_type": "markdown",
   "metadata": {},
   "source": [
    "BA9Q"
   ]
  },
  {
   "cell_type": "code",
   "execution_count": 42,
   "metadata": {
    "collapsed": false
   },
   "outputs": [
    {
     "name": "stdout",
     "output_type": "stream",
     "text": [
      "1,5\n",
      "11,10\n",
      "12,0\n"
     ]
    }
   ],
   "source": [
    "text = \"PANAMABANANAS$\"\n",
    "k = 5\n",
    "suffix_array = []\n",
    "for i in range(len(text)):\n",
    "    suffix_array.append((text[i:],i))\n",
    "suffix_array.sort()\n",
    "import sys\n",
    "for i in range(len(suffix_array)):\n",
    "    if suffix_array[i][1]%k==0:\n",
    "        sys.stdout.write(\"%d,%d\\n\"%(i,suffix_array[i][1]))"
   ]
  }
 ],
 "metadata": {
  "anaconda-cloud": {},
  "kernelspec": {
   "display_name": "Python [conda root]",
   "language": "python",
   "name": "conda-root-py"
  },
  "language_info": {
   "codemirror_mode": {
    "name": "ipython",
    "version": 2
   },
   "file_extension": ".py",
   "mimetype": "text/x-python",
   "name": "python",
   "nbconvert_exporter": "python",
   "pygments_lexer": "ipython2",
   "version": "2.7.12"
  }
 },
 "nbformat": 4,
 "nbformat_minor": 1
}
