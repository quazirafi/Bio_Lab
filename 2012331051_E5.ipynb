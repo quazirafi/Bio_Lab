{
 "cells": [
  {
   "cell_type": "markdown",
   "metadata": {},
   "source": [
    "Task1"
   ]
  },
  {
   "cell_type": "code",
   "execution_count": 42,
   "metadata": {
    "collapsed": false
   },
   "outputs": [
    {
     "name": "stdout",
     "output_type": "stream",
     "text": [
      "('ACG', 2)\n"
     ]
    }
   ],
   "source": [
    "def hammingDistance(DNA1,DNA2):\n",
    "    cnt = 0\n",
    "    for i in range (len(DNA1)):\n",
    "        if DNA1[i] != DNA2[i]:\n",
    "            cnt = cnt + 1\n",
    "    return cnt\n",
    "def PatternCount(Text, Pattern):\n",
    "    count = 0\n",
    "    length = len(Pattern)\n",
    "    mn = 9999\n",
    "    for i in range (len(Text)-len(Pattern)+1):\n",
    "        str = Text[i:i+length]\n",
    "        if hammingDistance(str,Pattern)<mn:\n",
    "            mn = hammingDistance(str,Pattern)\n",
    "    return mn\n",
    "DNAS = []\n",
    "kmers = {}\n",
    "DNAS.append(\"AAATTGACGCAT\")\n",
    "DNAS.append(\"GACGACCACGTT\")\n",
    "DNAS.append(\"CGTCAGCGCCTG\")\n",
    "DNAS.append(\"GCTGAGCACCGG\")\n",
    "DNAS.append(\"AGTACGGGACAG\")\n",
    "from itertools import product\n",
    "patterns = [''.join(i) for i in product(\"ATGC\", repeat = 3)]\n",
    "for pattern in patterns:\n",
    "    patternSum = 0\n",
    "    for dna in DNAS:\n",
    "        patternSum += PatternCount(dna,pattern)\n",
    "    kmers[pattern] = patternSum\n",
    "print (min(kmers.items(), key=lambda x: x[1]))"
   ]
  },
  {
   "cell_type": "markdown",
   "metadata": {},
   "source": [
    "Task2"
   ]
  },
  {
   "cell_type": "code",
   "execution_count": 49,
   "metadata": {
    "collapsed": false
   },
   "outputs": [
    {
     "name": "stdout",
     "output_type": "stream",
     "text": [
      "CCGAG\n"
     ]
    }
   ],
   "source": [
    "dna = \"ACCTGTTTATTGCCTAAGTTCCGAACAAACCCAATATAGCCCGAGGGCCT\"\n",
    "kmerLength = 5\n",
    "profile = [[0.2,0.2,0.3,0.2,0.3],[0.4,0.3,0.1,0.5,0.1],[0.3,0.3,0.5,0.2,0.4],[0.1,0.2,0.1,0.1,0.2]]\n",
    "mn = -1.0\n",
    "mostprob = \"\"\n",
    "for i in range (len(dna)-5+1):\n",
    "    prob = 1.0\n",
    "    kmer = dna[i:i+5]\n",
    "    for j in range (len(kmer)):\n",
    "        if kmer[j] == 'A':\n",
    "            prob *= profile[0][j]\n",
    "        elif kmer[j] == 'C':\n",
    "            prob *= profile[1][j]\n",
    "        elif kmer[j] == 'G':\n",
    "            prob *= profile[2][j]   \n",
    "        elif kmer[j] == 'T':\n",
    "            prob *= profile[3][j]\n",
    "    if prob>mn:\n",
    "        mn = prob  \n",
    "        mostprob = kmer\n",
    "print(mostprob)"
   ]
  },
  {
   "cell_type": "markdown",
   "metadata": {},
   "source": [
    "a"
   ]
  },
  {
   "cell_type": "code",
   "execution_count": 12,
   "metadata": {
    "collapsed": false
   },
   "outputs": [
    {
     "name": "stdout",
     "output_type": "stream",
     "text": [
      "('A', 'A', 'T')\n",
      "('C', 'T', 'T')\n"
     ]
    }
   ],
   "source": [
    "def hd(DNA1,DNA2):\n",
    "    cnt = 0\n",
    "    for i in range (len(DNA1)):\n",
    "        if DNA1[i] != DNA2[i]:\n",
    "            cnt = cnt + 1\n",
    "    return cnt\n",
    "dnas = [\"ATTTGGC\",\"TGCCTTA\",\"CGGTATC\",\"GAAAATT\"]\n",
    "kmer = 3\n",
    "mx = 1\n",
    "import itertools\n",
    "allkmers = itertools.product(\"ACGT\",repeat=kmer)\n",
    "dnakmers = []\n",
    "for dna in dnas:\n",
    "    for i in range(len(dna)-kmer+1):\n",
    "        dnakmer = dna[i:i+kmer]\n",
    "        if dnakmer not in dnakmers:\n",
    "            dnakmers.append(dnakmer)\n",
    "for dnakmer in dnakmers:\n",
    "    for allkmer in allkmers:\n",
    "        if hd(dnakmer,allkmer)<=mx:\n",
    "            count = 0\n",
    "            for dnakmer2 in dnakmers:\n",
    "                for i in range(len(dnakmer2)-kmer+1):\n",
    "                    kmerindna = dnakmer2[i:i+kmer]\n",
    "                    if hd(kmerindna,allkmer)<=mx:\n",
    "                        count+=1\n",
    "                        break\n",
    "            if count==4:\n",
    "                print(allkmer)"
   ]
  },
  {
   "cell_type": "markdown",
   "metadata": {},
   "source": [
    "h"
   ]
  },
  {
   "cell_type": "code",
   "execution_count": 13,
   "metadata": {
    "collapsed": false
   },
   "outputs": [
    {
     "name": "stdout",
     "output_type": "stream",
     "text": [
      "5\n"
     ]
    }
   ],
   "source": [
    "def hd(dna1,dna2):\n",
    "    count = 0\n",
    "    for i in range(len(dna1)):\n",
    "        if dna1[i]!=dna2[i]:\n",
    "            count+=1\n",
    "    return count\n",
    "pattern = \"AAA\"\n",
    "dnas = [\"TTACCTTAAC\", \"GATATCTGTC\", \"ACGGCGTTCG\", \"CCCTAAAGAG\", \"CGTCAGAGGT\"]\n",
    "k = len(pattern)\n",
    "distance = 0\n",
    "for dna in dnas:\n",
    "    hammingDistance = 10000\n",
    "    for i in range(len(dna)-k+1):\n",
    "        kmer = dna[i:i+k]\n",
    "        if hd(kmer,pattern)<hammingDistance:\n",
    "            hammingDistance = hd(kmer,pattern)\n",
    "    distance += hammingDistance\n",
    "print(distance)  "
   ]
  }
 ],
 "metadata": {
  "anaconda-cloud": {},
  "kernelspec": {
   "display_name": "Python [conda root]",
   "language": "python",
   "name": "conda-root-py"
  },
  "language_info": {
   "codemirror_mode": {
    "name": "ipython",
    "version": 2
   },
   "file_extension": ".py",
   "mimetype": "text/x-python",
   "name": "python",
   "nbconvert_exporter": "python",
   "pygments_lexer": "ipython2",
   "version": "2.7.12"
  }
 },
 "nbformat": 4,
 "nbformat_minor": 1
}
